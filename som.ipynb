{
 "cells": [
  {
   "cell_type": "code",
   "execution_count": 29,
   "id": "8a3cb303",
   "metadata": {},
   "outputs": [],
   "source": [
    "import numpy as np"
   ]
  },
  {
   "cell_type": "code",
   "execution_count": 30,
   "id": "554a13b9",
   "metadata": {},
   "outputs": [],
   "source": [
    "t = [\n",
    "    [1,1,0,0],\n",
    "    [0,0,0,1],\n",
    "    [1,0,0,0],\n",
    "    [0,0,1,1]\n",
    "]\n"
   ]
  },
  {
   "cell_type": "code",
   "execution_count": 31,
   "id": "2371d44e",
   "metadata": {},
   "outputs": [],
   "source": [
    "w = [\n",
    "    [0.2,0.6,0.5,0.9],\n",
    "    [0.8, 0.4, 0.7, 0.3]\n",
    "]"
   ]
  },
  {
   "cell_type": "code",
   "execution_count": 32,
   "id": "8f1bee7d",
   "metadata": {},
   "outputs": [],
   "source": [
    "def winner(s):\n",
    "    for i in range(len(s)):\n",
    "        d0 = np.sum(np.square(w[0][i]-s[i]))\n",
    "        d1 = np.sum(np.square(w[1][i]-s[i]))\n",
    "        if d0>d1:\n",
    "            return 0\n",
    "        else:\n",
    "            return 1"
   ]
  },
  {
   "cell_type": "code",
   "execution_count": 33,
   "id": "fd5302a0",
   "metadata": {},
   "outputs": [],
   "source": [
    "def som(lr,epochs):\n",
    "    for i in range(epochs):\n",
    "        for j in range(len(t)):\n",
    "            s = t[j]\n",
    "            j = winner(s)\n",
    "            for i in range(len(s)):\n",
    "                w[j][i] = w[j][i] + lr*(s[i]-w[j][i]) "
   ]
  },
  {
   "cell_type": "code",
   "execution_count": 34,
   "id": "345105b0",
   "metadata": {},
   "outputs": [],
   "source": [
    "som(0.5,3)"
   ]
  },
  {
   "cell_type": "code",
   "execution_count": 35,
   "id": "2966fa35",
   "metadata": {},
   "outputs": [
    {
     "data": {
      "text/plain": [
       "1"
      ]
     },
     "execution_count": 35,
     "metadata": {},
     "output_type": "execute_result"
    }
   ],
   "source": [
    "s = [1,1,0,1]\n",
    "winner(s)"
   ]
  },
  {
   "cell_type": "code",
   "execution_count": null,
   "id": "b3c92f64",
   "metadata": {},
   "outputs": [],
   "source": []
  }
 ],
 "metadata": {
  "kernelspec": {
   "display_name": "Python 3",
   "language": "python",
   "name": "python3"
  },
  "language_info": {
   "codemirror_mode": {
    "name": "ipython",
    "version": 3
   },
   "file_extension": ".py",
   "mimetype": "text/x-python",
   "name": "python",
   "nbconvert_exporter": "python",
   "pygments_lexer": "ipython3",
   "version": "3.8.8"
  }
 },
 "nbformat": 4,
 "nbformat_minor": 5
}

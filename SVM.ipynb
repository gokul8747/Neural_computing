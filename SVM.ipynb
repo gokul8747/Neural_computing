{
 "cells": [
  {
   "cell_type": "code",
   "execution_count": 16,
   "id": "87a0c498",
   "metadata": {},
   "outputs": [],
   "source": [
    "from sklearn import datasets,metrics\n",
    "from sklearn.svm import SVC\n",
    "from sklearn.model_selection import train_test_split"
   ]
  },
  {
   "cell_type": "code",
   "execution_count": 7,
   "id": "9bff5560",
   "metadata": {},
   "outputs": [],
   "source": [
    "x = datasets.load_digits()"
   ]
  },
  {
   "cell_type": "code",
   "execution_count": 9,
   "id": "e6206430",
   "metadata": {},
   "outputs": [],
   "source": [
    "x_data = x.data"
   ]
  },
  {
   "cell_type": "code",
   "execution_count": 10,
   "id": "e43a3959",
   "metadata": {},
   "outputs": [],
   "source": [
    "y_data = x.target"
   ]
  },
  {
   "cell_type": "code",
   "execution_count": 12,
   "id": "0a0e5bff",
   "metadata": {},
   "outputs": [],
   "source": [
    "x_train,x_test,y_train,y_test = train_test_split(x_data,y_data)"
   ]
  },
  {
   "cell_type": "code",
   "execution_count": 14,
   "id": "47992470",
   "metadata": {},
   "outputs": [],
   "source": [
    "s = SVC(gamma=0.001)\n",
    "s.fit(x_train,y_train)\n",
    "y_pred = s.predict(x_test)"
   ]
  },
  {
   "cell_type": "code",
   "execution_count": 18,
   "id": "237f3976",
   "metadata": {},
   "outputs": [],
   "source": [
    "m = metrics.classification_report(y_pred,y_test)"
   ]
  },
  {
   "cell_type": "code",
   "execution_count": 19,
   "id": "eb635d16",
   "metadata": {},
   "outputs": [
    {
     "name": "stdout",
     "output_type": "stream",
     "text": [
      "              precision    recall  f1-score   support\n",
      "\n",
      "           0       1.00      1.00      1.00        45\n",
      "           1       1.00      0.96      0.98        57\n",
      "           2       1.00      1.00      1.00        33\n",
      "           3       1.00      1.00      1.00        57\n",
      "           4       0.98      1.00      0.99        51\n",
      "           5       1.00      0.97      0.99        39\n",
      "           6       1.00      1.00      1.00        41\n",
      "           7       1.00      1.00      1.00        39\n",
      "           8       0.93      0.97      0.95        40\n",
      "           9       0.98      0.98      0.98        48\n",
      "\n",
      "    accuracy                           0.99       450\n",
      "   macro avg       0.99      0.99      0.99       450\n",
      "weighted avg       0.99      0.99      0.99       450\n",
      "\n"
     ]
    }
   ],
   "source": [
    "print(m)"
   ]
  },
  {
   "cell_type": "code",
   "execution_count": null,
   "id": "0f88f85c",
   "metadata": {},
   "outputs": [],
   "source": []
  }
 ],
 "metadata": {
  "kernelspec": {
   "display_name": "Python 3",
   "language": "python",
   "name": "python3"
  },
  "language_info": {
   "codemirror_mode": {
    "name": "ipython",
    "version": 3
   },
   "file_extension": ".py",
   "mimetype": "text/x-python",
   "name": "python",
   "nbconvert_exporter": "python",
   "pygments_lexer": "ipython3",
   "version": "3.8.8"
  }
 },
 "nbformat": 4,
 "nbformat_minor": 5
}
